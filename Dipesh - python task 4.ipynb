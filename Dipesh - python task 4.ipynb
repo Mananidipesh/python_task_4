{
 "cells": [
  {
   "cell_type": "markdown",
   "id": "578965b9-10b1-4482-8b82-4d0c73e775cf",
   "metadata": {},
   "source": [
    "# Dictionary "
   ]
  },
  {
   "cell_type": "markdown",
   "id": "6d4e79d6-839b-40ea-b450-d8bf737e9cad",
   "metadata": {},
   "source": [
    "# 1) Clear()"
   ]
  },
  {
   "cell_type": "raw",
   "id": "71613861-06d2-46b4-860c-eb1cd34fd981",
   "metadata": {},
   "source": [
    "Removes all the elements from the dictionary"
   ]
  },
  {
   "cell_type": "code",
   "execution_count": null,
   "id": "12f64aeb-1362-4fc2-8eae-ad43b83eb2a0",
   "metadata": {},
   "outputs": [],
   "source": [
    "https://www.w3schools.com/python/python_ref_dictionary.asp"
   ]
  },
  {
   "cell_type": "code",
   "execution_count": 2,
   "id": "375c0bdf-5172-40eb-8993-e1305a31f633",
   "metadata": {},
   "outputs": [],
   "source": [
    "Dict1 = {\n",
    "    \"student\" : \"Rohan\" , \n",
    "    \"Class\"   : \"8th\" , \n",
    "    \"performance\" : \"Best\" , \n",
    "    \"Grade\" : \"A\" , \n",
    "    \"Marks\" : 85\n",
    "}"
   ]
  },
  {
   "cell_type": "code",
   "execution_count": 4,
   "id": "de8582a2-9666-4eb3-bcb8-6a6adf5b59d0",
   "metadata": {},
   "outputs": [],
   "source": [
    "Dict1.clear()"
   ]
  },
  {
   "cell_type": "code",
   "execution_count": 5,
   "id": "78624270-046c-4f0b-a430-2919a9d050de",
   "metadata": {},
   "outputs": [
    {
     "data": {
      "text/plain": [
       "{}"
      ]
     },
     "execution_count": 5,
     "metadata": {},
     "output_type": "execute_result"
    }
   ],
   "source": [
    "Dict1"
   ]
  },
  {
   "cell_type": "markdown",
   "id": "da47d7a4-0227-453b-9867-2cb8ab221595",
   "metadata": {},
   "source": [
    "# 2) Copy()"
   ]
  },
  {
   "cell_type": "code",
   "execution_count": null,
   "id": "42b22b78-74c1-442c-bf65-2654df38a61c",
   "metadata": {},
   "outputs": [],
   "source": [
    "Returns a copy of the dictionary"
   ]
  },
  {
   "cell_type": "code",
   "execution_count": null,
   "id": "b82769fe-e418-4dc4-80a7-cae4361437e3",
   "metadata": {},
   "outputs": [],
   "source": [
    "https://www.w3schools.com/python/python_ref_dictionary.asp"
   ]
  },
  {
   "cell_type": "code",
   "execution_count": 9,
   "id": "27574bd1-4f20-433f-a030-59207f4650b7",
   "metadata": {},
   "outputs": [],
   "source": [
    "Dict2 = {\n",
    "    \"Employee\" : \"Raj\" , \n",
    "    \"Job Profile\" : \"Front End Developer\" , \n",
    "    \"Level\" : \"L7\",\n",
    "    \"Performance\" : \"Better\" \n",
    "}"
   ]
  },
  {
   "cell_type": "code",
   "execution_count": 10,
   "id": "768e1d67-85fa-4c3a-a5cc-5d5dd1108612",
   "metadata": {},
   "outputs": [],
   "source": [
    "New_Dict = Dict2.copy()"
   ]
  },
  {
   "cell_type": "code",
   "execution_count": 11,
   "id": "a885df2d-3384-4430-b9c4-e272bfc5da73",
   "metadata": {},
   "outputs": [
    {
     "data": {
      "text/plain": [
       "{'Employee': 'Raj',\n",
       " 'Job Profile': 'Front End Developer',\n",
       " 'Level': 'L7',\n",
       " 'Performance': 'Better'}"
      ]
     },
     "execution_count": 11,
     "metadata": {},
     "output_type": "execute_result"
    }
   ],
   "source": [
    "New_Dict"
   ]
  },
  {
   "cell_type": "markdown",
   "id": "e38d8fe9-b878-4d8b-ba0e-b90140b712de",
   "metadata": {},
   "source": [
    "# 3) Get()"
   ]
  },
  {
   "cell_type": "raw",
   "id": "32115fc7-788d-4bc5-a2e0-b793ce376914",
   "metadata": {},
   "source": [
    "Returns the value of the specified key"
   ]
  },
  {
   "cell_type": "code",
   "execution_count": null,
   "id": "3d3baeb1-48c8-4132-9611-8d678a745c5f",
   "metadata": {},
   "outputs": [],
   "source": [
    "https://www.w3schools.com/python/python_ref_dictionary.asp"
   ]
  },
  {
   "cell_type": "code",
   "execution_count": 12,
   "id": "4147fbb9-0efa-47b7-8e76-ce8f04997289",
   "metadata": {},
   "outputs": [],
   "source": [
    "Dict3 = school = {\n",
    "    \"name\": \"Greenwood High\",\n",
    "    \"students\": 1200,\n",
    "    \"teachers\": 75,\n",
    "    \"location\": \"New York\",\n",
    "    \"established\": 1985\n",
    "}"
   ]
  },
  {
   "cell_type": "code",
   "execution_count": 13,
   "id": "47143af5-ea59-4d69-b079-39b70c85953b",
   "metadata": {},
   "outputs": [
    {
     "data": {
      "text/plain": [
       "75"
      ]
     },
     "execution_count": 13,
     "metadata": {},
     "output_type": "execute_result"
    }
   ],
   "source": [
    "Dict3.get(\"teachers\")"
   ]
  },
  {
   "cell_type": "markdown",
   "id": "50b22970-3ac4-49fe-8381-496c30fa2b69",
   "metadata": {},
   "source": [
    "# 4) Items()"
   ]
  },
  {
   "cell_type": "raw",
   "id": "29b03cab-7608-4b85-8a5a-30a019e4d468",
   "metadata": {},
   "source": [
    "Returns a list containing a tuple for each key value pair"
   ]
  },
  {
   "cell_type": "code",
   "execution_count": null,
   "id": "7292a92e-51a5-4cf5-bb98-e076af3c7312",
   "metadata": {},
   "outputs": [],
   "source": [
    "https://www.w3schools.com/python/python_ref_dictionary.asp"
   ]
  },
  {
   "cell_type": "code",
   "execution_count": 14,
   "id": "c59261d2-a6b8-439a-a845-096b919bc22d",
   "metadata": {},
   "outputs": [],
   "source": [
    "Dict4 = college = {\n",
    "    \"name\": \"Lakeside University\",\n",
    "    \"students\": 8000,\n",
    "    \"faculties\": 500,\n",
    "    \"location\": \"California\",\n",
    "    \"courses\": [\"Engineering\", \"Business\", \"Arts\", \"Sciences\"]\n",
    "}\n"
   ]
  },
  {
   "cell_type": "code",
   "execution_count": 15,
   "id": "0bcf9b56-85c8-4de8-bc7f-390ca6829f26",
   "metadata": {},
   "outputs": [
    {
     "data": {
      "text/plain": [
       "dict_items([('name', 'Lakeside University'), ('students', 8000), ('faculties', 500), ('location', 'California'), ('courses', ['Engineering', 'Business', 'Arts', 'Sciences'])])"
      ]
     },
     "execution_count": 15,
     "metadata": {},
     "output_type": "execute_result"
    }
   ],
   "source": [
    "Dict4.items()"
   ]
  },
  {
   "cell_type": "markdown",
   "id": "3fb35f9c-3b62-4f42-bb9a-41c68d5b824c",
   "metadata": {},
   "source": [
    "# 5) Keys()"
   ]
  },
  {
   "cell_type": "raw",
   "id": "d5ea3cc2-1264-4b71-8b64-cb16ee50defd",
   "metadata": {},
   "source": [
    "Returns a list containing the dictionary's keys"
   ]
  },
  {
   "cell_type": "code",
   "execution_count": null,
   "id": "367f9152-6b99-4124-9f29-1c9fc06712e1",
   "metadata": {},
   "outputs": [],
   "source": [
    "https://www.w3schools.com/python/python_ref_dictionary.asp"
   ]
  },
  {
   "cell_type": "code",
   "execution_count": 16,
   "id": "1500963e-edc1-49d3-a1a6-eb9ce407ab7f",
   "metadata": {},
   "outputs": [],
   "source": [
    "Dict5 = employee = {\n",
    "    \"name\": \"John Doe\",\n",
    "    \"id\": \"E1023\",\n",
    "    \"department\": \"Human Resources\",\n",
    "    \"position\": \"Manager\",\n",
    "    \"salary\": 75000\n",
    "}\n"
   ]
  },
  {
   "cell_type": "code",
   "execution_count": 17,
   "id": "808bd981-ad3f-43a6-a4bd-576c4589fab1",
   "metadata": {},
   "outputs": [
    {
     "data": {
      "text/plain": [
       "dict_keys(['name', 'id', 'department', 'position', 'salary'])"
      ]
     },
     "execution_count": 17,
     "metadata": {},
     "output_type": "execute_result"
    }
   ],
   "source": [
    "Dict5.keys()"
   ]
  },
  {
   "cell_type": "markdown",
   "id": "a3d1f63a-fb21-4afb-b7d3-cf900ab09b4d",
   "metadata": {},
   "source": [
    "# 6) pop()"
   ]
  },
  {
   "cell_type": "code",
   "execution_count": null,
   "id": "9cab7e9f-a611-48ac-a1bd-40c30fd9184c",
   "metadata": {},
   "outputs": [],
   "source": [
    "Removes the element with the specified key"
   ]
  },
  {
   "cell_type": "code",
   "execution_count": null,
   "id": "666de9fc-d7a1-4166-abc1-fbc799d63677",
   "metadata": {},
   "outputs": [],
   "source": [
    "https://www.w3schools.com/python/python_ref_dictionary.asp"
   ]
  },
  {
   "cell_type": "code",
   "execution_count": 18,
   "id": "76711ce3-a65a-4ea5-bd58-a943147b844b",
   "metadata": {},
   "outputs": [],
   "source": [
    "Dict6 = book = {\n",
    "    \"title\": \"To Kill a Mockingbird\",\n",
    "    \"author\": \"Harper Lee\",\n",
    "    \"pages\": 281,\n",
    "    \"genre\": \"Fiction\",\n",
    "    \"published\": 1960\n",
    "}\n"
   ]
  },
  {
   "cell_type": "code",
   "execution_count": 19,
   "id": "c20acb2d-ec87-46c0-81e6-4577aa7e3803",
   "metadata": {},
   "outputs": [
    {
     "data": {
      "text/plain": [
       "'Fiction'"
      ]
     },
     "execution_count": 19,
     "metadata": {},
     "output_type": "execute_result"
    }
   ],
   "source": [
    "Dict6.pop(\"genre\")"
   ]
  },
  {
   "cell_type": "code",
   "execution_count": 20,
   "id": "0f43a7d4-cfbd-4bd4-8d16-5238c091371a",
   "metadata": {},
   "outputs": [
    {
     "data": {
      "text/plain": [
       "{'title': 'To Kill a Mockingbird',\n",
       " 'author': 'Harper Lee',\n",
       " 'pages': 281,\n",
       " 'published': 1960}"
      ]
     },
     "execution_count": 20,
     "metadata": {},
     "output_type": "execute_result"
    }
   ],
   "source": [
    "Dict6"
   ]
  },
  {
   "cell_type": "markdown",
   "id": "7ae73dc0-6e79-46e1-9e0b-7937d180f1fc",
   "metadata": {},
   "source": [
    "# 7) Update"
   ]
  },
  {
   "cell_type": "raw",
   "id": "1fa247f6-e2b4-4ee3-92b7-bebc390c1e67",
   "metadata": {},
   "source": [
    "Updates the dictionary with the specified key-value pairs"
   ]
  },
  {
   "cell_type": "code",
   "execution_count": null,
   "id": "885b6b4a-074f-4ac7-b4a3-216cffeb050b",
   "metadata": {},
   "outputs": [],
   "source": [
    "https://www.w3schools.com/python/python_ref_dictionary.asp"
   ]
  },
  {
   "cell_type": "code",
   "execution_count": 26,
   "id": "681f139b-2e3e-48b7-b647-7fe3a02acecc",
   "metadata": {},
   "outputs": [],
   "source": [
    "Dict7 = restaurant = {\n",
    "    \"name\": \"The Gourmet Kitchen\",\n",
    "    \"cuisine\": \"Italian\",\n",
    "    \"location\": \"Boston\",\n",
    "    \"rating\": 4.5,\n",
    "    \"open_hours\": \"11 AM - 10 PM\"\n",
    "}\n"
   ]
  },
  {
   "cell_type": "code",
   "execution_count": 28,
   "id": "835ca30b-e9a4-48a7-a9d7-30755cc43257",
   "metadata": {},
   "outputs": [],
   "source": [
    "Dict7.update({\"open_hours\" : \"10 AM - 10PM\"})"
   ]
  },
  {
   "cell_type": "code",
   "execution_count": 29,
   "id": "26f2eebd-3549-48e1-9dd5-9a8e46be74f9",
   "metadata": {},
   "outputs": [
    {
     "data": {
      "text/plain": [
       "{'name': 'The Gourmet Kitchen',\n",
       " 'cuisine': 'Italian',\n",
       " 'location': 'Boston',\n",
       " 'rating': 4.5,\n",
       " 'open_hours': '10 AM - 10PM'}"
      ]
     },
     "execution_count": 29,
     "metadata": {},
     "output_type": "execute_result"
    }
   ],
   "source": [
    "Dict7"
   ]
  },
  {
   "cell_type": "markdown",
   "id": "680e0016-1b05-4236-a084-b15294df434f",
   "metadata": {},
   "source": [
    "# 8) Values()"
   ]
  },
  {
   "cell_type": "raw",
   "id": "40223b1d-0238-4615-b3ee-c4309b274a97",
   "metadata": {},
   "source": [
    "Returns a list of all the values in the dictionary"
   ]
  },
  {
   "cell_type": "code",
   "execution_count": 30,
   "id": "6751dd93-85d4-4f96-afad-eaf5cbd0a891",
   "metadata": {},
   "outputs": [],
   "source": [
    "Dict8 = car = {\n",
    "    \"make\": \"Toyota\",\n",
    "    \"model\": \"Camry\",\n",
    "    \"year\": 2021,\n",
    "    \"color\": \"Silver\",\n",
    "    \"mileage\": 15000\n",
    "}\n"
   ]
  },
  {
   "cell_type": "code",
   "execution_count": 31,
   "id": "f4330b70-6f9d-4764-88aa-156dcb4e510c",
   "metadata": {},
   "outputs": [
    {
     "data": {
      "text/plain": [
       "dict_values(['Toyota', 'Camry', 2021, 'Silver', 15000])"
      ]
     },
     "execution_count": 31,
     "metadata": {},
     "output_type": "execute_result"
    }
   ],
   "source": [
    "Dict8.values()"
   ]
  },
  {
   "cell_type": "code",
   "execution_count": null,
   "id": "70952571-5638-4660-9bbd-e618353209ff",
   "metadata": {},
   "outputs": [],
   "source": []
  },
  {
   "cell_type": "markdown",
   "id": "0d9b2481-122c-48f1-8785-0d6cdd89fca8",
   "metadata": {},
   "source": [
    "# IF/ELSE "
   ]
  },
  {
   "cell_type": "code",
   "execution_count": 32,
   "id": "95cb004b-536b-400f-8453-b33e5e1a8d28",
   "metadata": {},
   "outputs": [
    {
     "name": "stdin",
     "output_type": "stream",
     "text": [
      "type yes or no  yes\n"
     ]
    },
    {
     "name": "stdout",
     "output_type": "stream",
     "text": [
      "yes\n"
     ]
    }
   ],
   "source": [
    "a = input(\"type yes or no \" )\n",
    "if a == \"yes\":\n",
    "    print(\"yes\")\n",
    "else:\n",
    "    print(\"no\")"
   ]
  },
  {
   "cell_type": "code",
   "execution_count": 33,
   "id": "5a3a4441-1cae-4bc7-8db4-6f18b5f30dad",
   "metadata": {},
   "outputs": [
    {
     "name": "stdin",
     "output_type": "stream",
     "text": [
      "Please enter your card number 7899\n"
     ]
    },
    {
     "name": "stdout",
     "output_type": "stream",
     "text": [
      "Wrong code!\n"
     ]
    }
   ],
   "source": [
    "a = input(\"Please enter your card number\")\n",
    "if a == 5432:\n",
    "    print(\"Collect your cash\")\n",
    "else: \n",
    "    print(\"Wrong code!\")"
   ]
  },
  {
   "cell_type": "code",
   "execution_count": 35,
   "id": "a6dbfdd2-8fd6-4c30-a6fe-1f1184cff2f9",
   "metadata": {},
   "outputs": [
    {
     "name": "stdin",
     "output_type": "stream",
     "text": [
      "Do you want to continue?  yes\n"
     ]
    },
    {
     "name": "stdout",
     "output_type": "stream",
     "text": [
      "Click next\n"
     ]
    }
   ],
   "source": [
    "a = input(\"Do you want to continue? \")\n",
    "if a == \"yes\":\n",
    "    print(\"Click next\")\n",
    "else:\n",
    "    print(\"Process cancelled\")\n"
   ]
  },
  {
   "cell_type": "code",
   "execution_count": 39,
   "id": "8eb4219c-b1fc-4f75-b95e-b25faccca834",
   "metadata": {},
   "outputs": [
    {
     "name": "stdin",
     "output_type": "stream",
     "text": [
      "value1 =  4\n",
      "value2 =  9\n"
     ]
    },
    {
     "name": "stdout",
     "output_type": "stream",
     "text": [
      "accepted\n"
     ]
    }
   ],
   "source": [
    "a = int(input(\"value1 = \" ))\n",
    "b = int(input(\"value2 = \"))\n",
    "if a + b > 200 :\n",
    "    print(\"overvalued\")\n",
    "else :\n",
    "    print(\"accepted\")"
   ]
  },
  {
   "cell_type": "code",
   "execution_count": 40,
   "id": "7d8e086d-df11-4307-ba92-d494118345c7",
   "metadata": {},
   "outputs": [
    {
     "name": "stdin",
     "output_type": "stream",
     "text": [
      "Enter your password  abcd\n"
     ]
    },
    {
     "name": "stdout",
     "output_type": "stream",
     "text": [
      "access granted\n"
     ]
    }
   ],
   "source": [
    "a = input(\"Enter your password \")\n",
    "if a == \"abcd\":\n",
    "    print(\"access granted\")\n",
    "else:\n",
    "    print(\"access denied\")\n"
   ]
  },
  {
   "cell_type": "code",
   "execution_count": 44,
   "id": "a3c6c27d-fb56-4e36-b46e-42ee10f97779",
   "metadata": {},
   "outputs": [
    {
     "name": "stdin",
     "output_type": "stream",
     "text": [
      "Enter a number:  -5\n"
     ]
    },
    {
     "name": "stdout",
     "output_type": "stream",
     "text": [
      "The number is negative.\n"
     ]
    }
   ],
   "source": [
    "a = int(input(\"Enter a number: \"))\n",
    "if number > 0:\n",
    "    print(\"The number is positive.\")\n",
    "else:\n",
    "    print(\"The number is negative.\")\n"
   ]
  },
  {
   "cell_type": "code",
   "execution_count": 46,
   "id": "52584c29-3939-44aa-8ce1-d36138a55a6e",
   "metadata": {},
   "outputs": [
    {
     "name": "stdin",
     "output_type": "stream",
     "text": [
      "Enter your age:  18\n"
     ]
    },
    {
     "name": "stdout",
     "output_type": "stream",
     "text": [
      "You are an adult.\n"
     ]
    }
   ],
   "source": [
    "a = int(input(\"Enter your age: \"))\n",
    "if a >= 18:\n",
    "    print(\"You are an adult.\")\n",
    "else:\n",
    "    print(\"You are not an adult.\")\n"
   ]
  },
  {
   "cell_type": "code",
   "execution_count": 50,
   "id": "2bcdb9cf-80fe-4108-ab75-ccfb016447f4",
   "metadata": {},
   "outputs": [
    {
     "name": "stdin",
     "output_type": "stream",
     "text": [
      "Enter a number  9\n"
     ]
    },
    {
     "name": "stdout",
     "output_type": "stream",
     "text": [
      "9 is odd number\n"
     ]
    }
   ],
   "source": [
    "a = int(input(\"Enter a number \"))\n",
    "if a / 2 == 0:\n",
    "    print(f\"{a} is even number\")\n",
    "else:\n",
    "    print(f\"{a} is odd number\")    "
   ]
  },
  {
   "cell_type": "code",
   "execution_count": 51,
   "id": "467c68ff-9867-4235-a357-0049253270d6",
   "metadata": {},
   "outputs": [
    {
     "name": "stdin",
     "output_type": "stream",
     "text": [
      "Enter first value:  18\n",
      "Enter second value:  14\n"
     ]
    },
    {
     "name": "stdout",
     "output_type": "stream",
     "text": [
      "18 is greater value\n"
     ]
    }
   ],
   "source": [
    "a = int(input(\"Enter first value: \"))\n",
    "b = int(input(\"Enter second value: \"))\n",
    "if a > b:\n",
    "    print(f\"{a} is greater value\")\n",
    "else:\n",
    "    print(f\"{b} is greater value\")"
   ]
  },
  {
   "cell_type": "code",
   "execution_count": 52,
   "id": "cd2cc2dc-c8d8-44d9-9b98-5a3b20acc47d",
   "metadata": {},
   "outputs": [
    {
     "name": "stdin",
     "output_type": "stream",
     "text": [
      "Guess the value from 0 to 10  8\n"
     ]
    },
    {
     "name": "stdout",
     "output_type": "stream",
     "text": [
      "you guessed it right!\n"
     ]
    }
   ],
   "source": [
    "a = int(input(\"Guess the value from 0 to 10 \"))\n",
    "if a == 8:\n",
    "    print(\"you guessed it right!\")\n",
    "else: \n",
    "    print(\"you guessed it wrong!.. try again\")\n",
    " "
   ]
  },
  {
   "cell_type": "code",
   "execution_count": null,
   "id": "e1689585-e11e-4f3b-8d38-c8e5f0bdf32e",
   "metadata": {},
   "outputs": [],
   "source": []
  }
 ],
 "metadata": {
  "kernelspec": {
   "display_name": "Python 3 (ipykernel)",
   "language": "python",
   "name": "python3"
  },
  "language_info": {
   "codemirror_mode": {
    "name": "ipython",
    "version": 3
   },
   "file_extension": ".py",
   "mimetype": "text/x-python",
   "name": "python",
   "nbconvert_exporter": "python",
   "pygments_lexer": "ipython3",
   "version": "3.12.4"
  }
 },
 "nbformat": 4,
 "nbformat_minor": 5
}
